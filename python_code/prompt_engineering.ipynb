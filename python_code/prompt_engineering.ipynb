{
 "cells": [
  {
   "cell_type": "code",
   "execution_count": 71,
   "metadata": {},
   "outputs": [
    {
     "data": {
      "text/plain": [
       "True"
      ]
     },
     "execution_count": 71,
     "metadata": {},
     "output_type": "execute_result"
    }
   ],
   "source": [
    "import os\n",
    "import json\n",
    "from openai import OpenAI\n",
    "from dotenv import load_dotenv\n",
    "from sklearn.metrics.pairwise import cosine_similarity\n",
    "\n",
    "\n",
    "load_dotenv()"
   ]
  },
  {
   "cell_type": "code",
   "execution_count": null,
   "metadata": {},
   "outputs": [],
   "source": [
    "client = OpenAI(\n",
    "    api_key=os.getenv(\"RUNPOD_TOKEN\"),\n",
    "    base_url=os.getenv(\"RUNPOD_CHATBOT_URL\")\n",
    ")\n",
    "\n",
    "model_name = os.getenv(\"MODEL_NAME\")"
   ]
  },
  {
   "cell_type": "code",
   "execution_count": 25,
   "metadata": {},
   "outputs": [],
   "source": [
    "def get_chatbot_response(client, model_name, messages, temperature=0):\n",
    "    input_messages = []\n",
    "    for message in messages:\n",
    "        input_messages.append({\"role\": message[\"role\"], \"content\": message[\"content\"]})\n",
    "\n",
    "    response = client.chat.completions.create(\n",
    "        \n",
    "        model=model_name,\n",
    "        messages=input_messages,\n",
    "        temperature=temperature,\n",
    "        top_p=0.8,\n",
    "        max_tokens=2000\n",
    "    ).choices[0].message.content\n",
    "\n",
    "    return response"
   ]
  },
  {
   "cell_type": "markdown",
   "metadata": {},
   "source": [
    "# Get LLM Response"
   ]
  },
  {
   "cell_type": "code",
   "execution_count": null,
   "metadata": {},
   "outputs": [],
   "source": [
    "messages = [{\"role\": \"user\", \"content\": \"What is the capital of mongolia?\"}]\n",
    "response = get_chatbot_response(client, model_name, messages)"
   ]
  },
  {
   "cell_type": "code",
   "execution_count": 27,
   "metadata": {},
   "outputs": [
    {
     "data": {
      "text/plain": [
       "'The capital of Mongolia is Ulaanbaatar (also known as Ulan Bator).'"
      ]
     },
     "execution_count": 27,
     "metadata": {},
     "output_type": "execute_result"
    }
   ],
   "source": [
    "response"
   ]
  },
  {
   "cell_type": "markdown",
   "metadata": {},
   "source": [
    "# Prompt Engineering"
   ]
  },
  {
   "cell_type": "markdown",
   "metadata": {},
   "source": [
    "## Structured output"
   ]
  },
  {
   "cell_type": "code",
   "execution_count": null,
   "metadata": {},
   "outputs": [
    {
     "data": {
      "text/plain": [
       "'[\\n{\\n    \"country\": \"Mongolia\",\\n    \"capital\": \"Ulaanbaatar\"\\n}\\n]'"
      ]
     },
     "execution_count": 28,
     "metadata": {},
     "output_type": "execute_result"
    }
   ],
   "source": [
    "system_prompt = \"\"\"\n",
    "You are a helpful assistant that answers questions about capitals of countries.\n",
    "\n",
    "Your output should be in a structured JSON format exactly like the one below. You are not allowed to write anything other than the JSON object:\n",
    "\n",
    "[\n",
    "{\n",
    "    \"country\": the country that you will get the capital of\n",
    "    \"capital\": the capital of the country stated\n",
    "}\n",
    "\n",
    "]\n",
    "\n",
    "\"\"\"\n",
    "\n",
    "messages = [{\"role\": \"system\", \"content\": system_prompt}]\n",
    "messages.append({\"role\": \"user\", \"content\": \"What is the capital of mongolia?\"})\n",
    "response = get_chatbot_response(client, model_name, messages)"
   ]
  },
  {
   "cell_type": "code",
   "execution_count": 35,
   "metadata": {},
   "outputs": [
    {
     "data": {
      "text/plain": [
       "dict"
      ]
     },
     "execution_count": 35,
     "metadata": {},
     "output_type": "execute_result"
    }
   ],
   "source": [
    "json_response = json.loads(response)\n",
    "type(json_response[0])"
   ]
  },
  {
   "cell_type": "code",
   "execution_count": 34,
   "metadata": {},
   "outputs": [
    {
     "name": "stdout",
     "output_type": "stream",
     "text": [
      "[{'country': 'Mongolia', 'capital': 'Ulaanbaatar'}]\n"
     ]
    }
   ],
   "source": [
    "print(json_response)"
   ]
  },
  {
   "cell_type": "markdown",
   "metadata": {},
   "source": [
    "## Input structuring"
   ]
  },
  {
   "cell_type": "code",
   "execution_count": 36,
   "metadata": {},
   "outputs": [],
   "source": [
    "user_input = \"\"\"\n",
    "Give me the capitals of the following countries:\n",
    "```\n",
    "1. Spain\n",
    "2. America\n",
    "3. Iran\n",
    "```\n",
    "\"\"\""
   ]
  },
  {
   "cell_type": "code",
   "execution_count": 37,
   "metadata": {},
   "outputs": [],
   "source": [
    "messages = [{\"role\": \"system\", \"content\": system_prompt}]\n",
    "messages.append({\"role\": \"user\", \"content\": user_input})\n",
    "response = get_chatbot_response(client, model_name, messages)"
   ]
  },
  {
   "cell_type": "code",
   "execution_count": 38,
   "metadata": {},
   "outputs": [
    {
     "name": "stdout",
     "output_type": "stream",
     "text": [
      "[\n",
      "{\n",
      "    \"country\": \"Spain\",\n",
      "    \"capital\": \"Madrid\"\n",
      "},\n",
      "{\n",
      "    \"country\": \"America\",\n",
      "    \"capital\": \"Washington D.C.\"\n",
      "},\n",
      "{\n",
      "    \"country\": \"Iran\",\n",
      "    \"capital\": \"Tehran\"\n",
      "}\n",
      "]\n"
     ]
    }
   ],
   "source": [
    "print(response)"
   ]
  },
  {
   "cell_type": "markdown",
   "metadata": {},
   "source": [
    "# Give the model time to think (Chain of thought)"
   ]
  },
  {
   "cell_type": "code",
   "execution_count": 39,
   "metadata": {},
   "outputs": [],
   "source": [
    "user_prompt = \"\"\"\n",
    "Calculate the  result of the equation 1+3\n",
    "\n",
    "Your output should be in a structured json format exactly like the one below. You are not allowed to write anything other than the json object.\n",
    "\n",
    "\n",
    "{\n",
    "    \"result\": The final number resulted from the calculating the equation above\n",
    "}\n",
    "\n",
    "\"\"\"\n",
    "\n",
    "messages = [{\"role\": \"user\", \"content\": user_prompt}]\n",
    "response = get_chatbot_response(client, model_name, messages)"
   ]
  },
  {
   "cell_type": "code",
   "execution_count": 40,
   "metadata": {},
   "outputs": [
    {
     "name": "stdout",
     "output_type": "stream",
     "text": [
      "{'result': 4}\n"
     ]
    }
   ],
   "source": [
    "print(json.loads(response))"
   ]
  },
  {
   "cell_type": "code",
   "execution_count": null,
   "metadata": {},
   "outputs": [
    {
     "data": {
      "text/plain": [
       "4113098.0"
      ]
     },
     "execution_count": 41,
     "metadata": {},
     "output_type": "execute_result"
    }
   ],
   "source": [
    "259/2*8654+91072*33-12971"
   ]
  },
  {
   "cell_type": "code",
   "execution_count": 45,
   "metadata": {},
   "outputs": [],
   "source": [
    "user_prompt = \"\"\"\n",
    "Calculate the  result of the equation 259/2*8654+91072*33-12971\n",
    "\n",
    "\n",
    "Your output should be in a structured json format exactly like the one below. You are not allowed to write anything other than the json object.\n",
    "\n",
    "\n",
    "{\n",
    "    \"steps\": this is where you solve the equation bit by bit following the BEDMAS order of operations and you need to show your work and calculate each step leading to the final result and feel free to write in free text\n",
    "    \"result\": The final number resulted from the calculating the equation above\n",
    "}\n",
    "\n",
    "\"\"\"\n",
    "\n",
    "messages = [{\"role\": \"user\", \"content\": user_prompt}]\n",
    "response = get_chatbot_response(client, model_name, messages)"
   ]
  },
  {
   "cell_type": "code",
   "execution_count": 43,
   "metadata": {},
   "outputs": [
    {
     "name": "stdout",
     "output_type": "stream",
     "text": [
      "{\n",
      "    \"result\": 1343519\n",
      "}\n"
     ]
    }
   ],
   "source": [
    "print(response)"
   ]
  },
  {
   "cell_type": "code",
   "execution_count": 47,
   "metadata": {},
   "outputs": [
    {
     "data": {
      "text/plain": [
       "2769579"
      ]
     },
     "execution_count": 47,
     "metadata": {},
     "output_type": "execute_result"
    }
   ],
   "source": [
    "4113098 - 1343519"
   ]
  },
  {
   "cell_type": "code",
   "execution_count": null,
   "metadata": {},
   "outputs": [
    {
     "name": "stdout",
     "output_type": "stream",
     "text": [
      "{\n",
      "    \"steps\": \"First, we need to follow the order of operations (BEDMAS):\n",
      "\n",
      "1. Divide 259 by 2: 259 ÷ 2 = 129.5\n",
      "2. Multiply 129.5 by 8654: 129.5 × 8654 = 112,141.3\n",
      "3. Multiply 91072 by 33: 91072 × 33 = 3,003,336\n",
      "4. Subtract 12971 from 3,003,336: 3,003,336 - 12,971 = 2,990,365\n",
      "5. Add 112,141.3 to 2,990,365: 2,990,365 + 112,141.3 = 3,102,506.3\n",
      "\n",
      "\",\n",
      "    \"result\": 3102506.3\n",
      "}\n"
     ]
    }
   ],
   "source": [
    "print(response)"
   ]
  },
  {
   "cell_type": "code",
   "execution_count": 48,
   "metadata": {},
   "outputs": [
    {
     "data": {
      "text/plain": [
       "1010591.7000000002"
      ]
     },
     "execution_count": 48,
     "metadata": {},
     "output_type": "execute_result"
    }
   ],
   "source": [
    "4113098 - 3102506.3"
   ]
  },
  {
   "cell_type": "code",
   "execution_count": 50,
   "metadata": {},
   "outputs": [
    {
     "data": {
      "text/plain": [
       "2.7405518964780735"
      ]
     },
     "execution_count": 50,
     "metadata": {},
     "output_type": "execute_result"
    }
   ],
   "source": [
    "2769579/1010591.7"
   ]
  },
  {
   "cell_type": "markdown",
   "metadata": {},
   "source": [
    "# Retrieval Augmented Generation"
   ]
  },
  {
   "cell_type": "code",
   "execution_count": null,
   "metadata": {},
   "outputs": [],
   "source": [
    "user_prompt = '''\n",
    "What's new in iphone 16?\n",
    "'''\n",
    "\n",
    "messages = [{\"role\": \"user\", \"content\": user_prompt}]\n",
    "response = get_chatbot_response(client, model_name, messages)"
   ]
  },
  {
   "cell_type": "code",
   "execution_count": 52,
   "metadata": {},
   "outputs": [
    {
     "name": "stdout",
     "output_type": "stream",
     "text": [
      "There is no such thing as an \"iPhone 16\". Apple has not released an iPhone with that model number. The latest iPhone models available in the market are iPhone 13 series, which includes iPhone 13, iPhone 13 Mini, iPhone 13 Pro, and iPhone 13 Pro Max.\n",
      "\n",
      "However, if you're looking for information on the latest rumors and leaks about the next-generation iPhone, I can provide you with some information.\n",
      "\n",
      "Rumors suggest that the next-generation iPhone, likely to be called iPhone 14, will feature several upgrades and improvements, including:\n",
      "\n",
      "1. Improved cameras: The iPhone 14 is expected to feature a new triple-camera setup with a wider-angle lens, a telephoto lens, and a ultra-wide-angle lens.\n",
      "2. Faster processor: The iPhone 14 is expected to be powered by Apple's A15 Bionic chip, which will provide a significant boost in performance and efficiency.\n",
      "3. Longer battery life: The iPhone 14 is expected to have a longer battery life, with some reports suggesting up to 12 hours of internet use on a single charge.\n",
      "4. New design: The iPhone 14 is expected to feature a new design with a smaller notch, thinner bezels, and a more seamless glass front.\n",
      "5. 5G connectivity: The iPhone 14 is expected to support 5G connectivity, which will provide faster data speeds and lower latency.\n",
      "6. Improved water resistance: The iPhone 14 is expected to have improved water resistance, with some reports suggesting it will be able to withstand up to 30 feet of water.\n",
      "7. New colors: The iPhone 14 is expected to be available in new colors, including a new \"Pacific Blue\" color option.\n",
      "\n",
      "Please note that these are just rumors and leaks, and Apple has not officially confirmed any of these features. We'll have to wait for the official announcement to know the exact specifications and features of the next-generation iPhone.\n"
     ]
    }
   ],
   "source": [
    "print(response)"
   ]
  },
  {
   "cell_type": "code",
   "execution_count": 54,
   "metadata": {},
   "outputs": [],
   "source": [
    "iphone_16 = \"\"\"\n",
    "CUPERTINO, CALIFORNIA Apple today announced iPhone 16 and iPhone 16 Plus, built for Apple Intelligence, the easy-to-use personal intelligence system that understands personal context to deliver intelligence that is helpful and relevant while protecting user privacy. The iPhone 16 lineup also introduces Camera Control, which brings new ways to capture memories, and will help users quickly access visual intelligence to learn about objects or places around them faster than ever before. The powerful camera system features a 48MP Fusion camera with a 2x Telephoto option, giving users two cameras in one, while a new Ultra Wide camera enables macro photography. Next-generation Photographic Styles help users personalize their images, and spatial photo and video capture allows users to relive life’s precious memories with remarkable depth on Apple Vision Pro. The new A18 chip delivers a huge leap in performance and efficiency, enabling demanding AAA games, as well as a big boost in battery life.\n",
    "iPhone 16 and iPhone 16 Plus will be available in five bold colors: black, white, pink, teal, and ultramarine. Pre-orders begin Friday, September 13, with availability beginning Friday, September 20.\n",
    "“iPhone 16 and iPhone 16 Plus mark the beginning of a new era for iPhone with Apple Intelligence delivering powerful, personal, and private experiences to our users,” said Kaiann Drance, Apple’s vice president of Worldwide iPhone Product Marketing. “With new ways to discover the world around you and capture memories using Camera Control; a 48MP Fusion camera that gives you two optical-quality cameras in one; a big boost in battery life; and powerful, efficient performance thanks to the A18 chip, this is the perfect time for customers to upgrade or make the switch to iPhone.”\n",
    "Apple Intelligence unlocks new ways for users to enhance their writing. With systemwide Writing Tools built into iOS 18, users can rewrite, proofread, and summarize text nearly everywhere they write, including Mail, Notes, Pages, and third-party apps. In the Notes and Phone apps, users can also record, transcribe, and summarize audio. When a recording is initiated while on a call in the Phone app, participants are automatically notified, and once the call ends, Apple Intelligence generates a summary to recall key points.\n",
    "\"\"\""
   ]
  },
  {
   "cell_type": "code",
   "execution_count": 55,
   "metadata": {},
   "outputs": [
    {
     "name": "stdout",
     "output_type": "stream",
     "text": [
      "According to the article, the new features and improvements in iPhone 16 and iPhone 16 Plus include:\n",
      "\n",
      "1. Apple Intelligence: a personal intelligence system that understands personal context to deliver helpful and relevant information while protecting user privacy.\n",
      "2. Camera Control: new ways to capture memories, including:\n",
      "\t* 48MP Fusion camera with a 2x Telephoto option, giving users two cameras in one.\n",
      "\t* Ultra Wide camera for macro photography.\n",
      "\t* Next-generation Photographic Styles to personalize images.\n",
      "\t* Spatial photo and video capture for remarkable depth on Apple Vision Pro.\n",
      "3. A18 chip: delivers a huge leap in performance and efficiency, enabling demanding AAA games and a big boost in battery life.\n",
      "4. New colors: available in five bold colors: black, white, pink, teal, and ultramarine.\n",
      "5. Apple Intelligence Writing Tools: systemwide tools built into iOS 18 that allow users to rewrite, proofread, and summarize text nearly everywhere they write, including Mail, Notes, Pages, and third-party apps.\n",
      "6. Audio recording and transcription: users can record, transcribe, and summarize audio in the Notes and Phone apps, with automatic notification and summary generation for phone calls.\n",
      "\n",
      "These are the main new features and improvements in iPhone 16 and iPhone 16 Plus.\n"
     ]
    }
   ],
   "source": [
    "user_prompt = f\"\"\"\n",
    "{iphone_16}\n",
    "\n",
    "What's new in iphone 16\n",
    "\n",
    "\"\"\"\n",
    "messages = [{\"role\": \"user\", \"content\": user_prompt}]\n",
    "response = get_chatbot_response(client, model_name, messages)\n",
    "print(response)"
   ]
  },
  {
   "cell_type": "markdown",
   "metadata": {},
   "source": [
    "### Automatically extract context data from database"
   ]
  },
  {
   "cell_type": "code",
   "execution_count": 57,
   "metadata": {},
   "outputs": [],
   "source": [
    "samsung_s24 = \"\"\"\n",
    "The Galaxy S24 Series is here, and with it comes the launch of Galaxy AI, which is set to take your mobile experience to the next level!\n",
    "\n",
    "Samsung’s latest Galaxy S24 Series launch is packed with exciting new features that are sure to get you excited. The series, which includes the Galaxy S24, S24+ and S24 Ultra, is all about new innovations that are set to enrich your daily life.\n",
    "\n",
    "So what can you expect from these latest phones? Let’s find out!\n",
    "\n",
    "1. Language will no longer be a barrier for you!\n",
    "Imagine being on a business trip in Korea and you need to communicate with your Korean client, or a family holiday in France and you want to book dinner at a popular restaurant – but, you don’t speak the local languages. Fret not, because with a Galaxy S24 Series phone in your hands, communicating with someone in a different language is no longer going to be an issue!\n",
    "\n",
    "Live Translate\n",
    "The Galaxy S24 Series makes communicating with someone who speaks a different language much easier! Live Translate1, which leverages Galaxy AI, allows you to enjoy real-time translation during your phone calls. Simply activate the Live Translate feature on your Galaxy S24 Series phone and you are all set to go! What do we mean?\n",
    "\n",
    "Interpreter\n",
    "Having a chat with locals on your travels will also no longer be an issue, because the Interpreter2 feature on the Galaxy S24 Series will be your personal translator! This built-in feature, which is set on a user-friendly split screen interface, allows you to communicate easily. You’ll just need to download the relevant language packs before you travel.\n",
    "\n",
    "Chat Assist\n",
    "Do you find it frustrating when you can’t convey the right tone in your messages? With Galaxy S24’s Chat Assist3, you can easily fine-tune your content, in just a few seconds, whether you want to have it as a polite message to your superior, or a catchy social media post! How convenient!\n",
    "\n",
    "2. Easy note-taking for work & school\n",
    "\n",
    "Transcript Assist\n",
    "Do you often spend hours trying to transcribe meeting minutes or your professor’s lectures? With the Galaxy S24 Series, that will soon be a thing of the past because you can now use Transcript Assist4 to transcribe voice recordings that you take on the pre-installed Samsung Voice Recorder app!\n",
    "\n",
    "Simply record during your lectures or meetings and use Transcript Assist for transcription. The feature is even able to detect multiple speakers!\n",
    "\n",
    "After transcribing, you can also get your document translated or summarised! It doesn’t get easier than that.\n",
    "\n",
    "3. A new way to search\n",
    "\n",
    "Circle to Search with Google\n",
    "Saw a top you like in an influencer's video and wondered where it's from? Or maybe, you want to know what breed that cute little puppy in the photo is!\n",
    "\n",
    "Circle to Search with Google5 will give you the answers you seek in just seconds! All you’ve got to do is circle the object of interest with your finger or S-Pen, and the Google web search will begin. How amazing is it that your curiosities and questions can now be easily answered!\n",
    "\n",
    "4. Capture photos, edit, and create videos like never before!\n",
    "ProVisual Engine\n",
    "Imagine this: You’re at a concert, far from the stage, but want to capture your favourite band's epic moments. With the Galaxy S24 Ultra, you now can do so without losing a speck of detail. The Quad Tele System6, featuring a new 5x optical zoom lens, works in harmony with the 50MP sensor. This means, you can enjoy optical-quality shots with zoom levels from 2x, 3x, 5x to 10x magnification, all thanks to the Adaptive Pixel Sensor.\n",
    "\n",
    "If you want to score a close-up shot of the lead singer, but your seat is all the way to the back, fret not, because with the deep learning based AI Zoom7, you can seamlessly go up to 100x zoom, and ensure that your images are not just close-up, but crystal clear! No more shaky, pixelated close up shots – just vivid, sharp pictures that will make you feel like you are right there in the front row!\n",
    "\n",
    "Nightography\n",
    "With the Galaxy S24 Series, night shots and videos will be your new playground. With the enhanced Nightography of the Galaxy S24 Ultra, you’ll be able to capture vibrant, detailed memories, even in dimly lit scenes8.\n",
    "\n",
    "Trying to get those zoomed in club shots at your friend’s bachelorette party? Want to create a video of the beautiful night city skyline for your socials? That’s going to be really easy with the Galaxy S24 Ultra Space Zoom, which is brilliant in any conditions. With a larger 1.4 micrometre pixel size, which is a whopping 60% increase from the Galaxy S23 Ultra, you will be able to capture more light even in dim conditions.\n",
    "\n",
    "But that’s not all! Because the Galaxy S24 Ultra also boasts a wider optical image stabiliser (OIS) and advanced hand-shake compensation, so you can say goodbye to blurry and shaky night shots. Just imagine the kind of pictures you can take with this phone!\n",
    "\n",
    "And if you are a video content creator, or just love taking videos at night, then you would be glad to know that the Galaxy S24 Ultra is a game-changer as both the front and rear cameras are equipped with a Dedicated ISP Block that gives you superior noise reduction. To top it off, the Galaxy S24 Ultra is also able to analyse gyro information to differentiate between your movements and the subject’s. What does this mean for you? Stunningly clear videos that make you feel like you are reliving the moment, not just watching it!\n",
    "\n",
    "Galaxy AI editing tools\n",
    "Do you spend hours editing your pictures for your social media? Now, with the Galaxy AI editing tools that are on the Galaxy S24 Series, editing photos will just take you a few seconds! You can now easily remove objects or reflections, or even use Generative Edit to fill parts of your image background with Generative AI!\n",
    "\n",
    "Battery\n",
    "Despite its advanced AI features, the Galaxy S24 Series doesn't compromise on battery life. It achieves this balance through new chipsets with smart battery management and larger batteries in the Galaxy S24 and S24+ models. The Galaxy S24 Ultra boasts a 5000 mAh battery, while the Galaxy S24 and S24+ come with 4000mAh and 4900mAh batteries, respectively12. This means you can enjoy all the AI enhancements without constantly worrying about your phone's battery life!\n",
    "\n",
    "\"\"\""
   ]
  },
  {
   "cell_type": "code",
   "execution_count": 58,
   "metadata": {},
   "outputs": [],
   "source": [
    "data = [iphone_16, samsung_s24]\n",
    "\n",
    "user_prompt = \"\"\"What's new in iphone 16\"\"\""
   ]
  },
  {
   "cell_type": "code",
   "execution_count": 59,
   "metadata": {},
   "outputs": [],
   "source": [
    "embedding_client = OpenAI(\n",
    "    api_key=os.getenv(\"RUNPOD_TOKEN\"),\n",
    "    base_url=os.getenv(\"RUNPOD_EMBEDDING_URL\")\n",
    ")"
   ]
  },
  {
   "cell_type": "code",
   "execution_count": 62,
   "metadata": {},
   "outputs": [],
   "source": [
    "def get_embedding(embedding_client, model_name, text_input):\n",
    "    output = embedding_client.embeddings.create(input=text_input, model=model_name)\n",
    "\n",
    "    embeddings = []\n",
    "    for embedding_object in output.data:\n",
    "        embeddings.append(embedding_object.embedding)\n",
    "    \n",
    "    return embeddings"
   ]
  },
  {
   "cell_type": "code",
   "execution_count": 63,
   "metadata": {},
   "outputs": [],
   "source": [
    "embedding_model = \"BAAI/bge-small-en-v1.5\""
   ]
  },
  {
   "cell_type": "code",
   "execution_count": 68,
   "metadata": {},
   "outputs": [],
   "source": [
    "user_prompt_embedding = get_embedding(embedding_client, embedding_model, user_prompt)"
   ]
  },
  {
   "cell_type": "code",
   "execution_count": 78,
   "metadata": {},
   "outputs": [],
   "source": [
    "data_embeddings = [get_embedding(embedding_client, embedding_model, text)[0] for text in data]"
   ]
  },
  {
   "cell_type": "code",
   "execution_count": 80,
   "metadata": {},
   "outputs": [
    {
     "data": {
      "text/plain": [
       "[[-0.03812352567911148,\n",
       "  -0.02623472549021244,\n",
       "  -0.008271797560155392,\n",
       "  0.002905430970713496,\n",
       "  -0.041572652757167816,\n",
       "  -0.0027547224890440702,\n",
       "  0.03458283096551895,\n",
       "  -0.004734917543828487,\n",
       "  -0.011186767369508743,\n",
       "  0.030050130560994148,\n",
       "  0.05036334693431854,\n",
       "  0.018832838162779808,\n",
       "  -0.021198390051722527,\n",
       "  -0.002195765497162938,\n",
       "  0.060802292078733444,\n",
       "  0.028050856664776802,\n",
       "  0.07881100475788116,\n",
       "  -0.18204060196876526,\n",
       "  -0.04331247881054878,\n",
       "  -0.012644251808524132,\n",
       "  0.00483411829918623,\n",
       "  -0.022938214242458344,\n",
       "  -0.03934445604681969,\n",
       "  -0.01919911801815033,\n",
       "  -0.008660969324409962,\n",
       "  0.036749981343746185,\n",
       "  -0.0015814853832125664,\n",
       "  -0.029592281207442284,\n",
       "  -0.03864242136478424,\n",
       "  -0.18606966733932495,\n",
       "  0.001022528507746756,\n",
       "  0.004078668076545,\n",
       "  0.013269978575408459,\n",
       "  -0.020572664216160774,\n",
       "  -0.04142003506422043,\n",
       "  -0.030874257907271385,\n",
       "  -0.043678756803274155,\n",
       "  0.02911917120218277,\n",
       "  -0.004505993332713842,\n",
       "  0.017672955989837646,\n",
       "  0.011904063634574413,\n",
       "  0.013727826997637749,\n",
       "  -0.0008322352077811956,\n",
       "  0.055827006697654724,\n",
       "  0.044960733503103256,\n",
       "  0.04688369482755661,\n",
       "  0.006333572324365377,\n",
       "  -0.0035025416873395443,\n",
       "  -0.01684882864356041,\n",
       "  -0.02716568298637867,\n",
       "  0.058818284422159195,\n",
       "  0.0011303137289360166,\n",
       "  0.0030466008465737104,\n",
       "  -0.019168594852089882,\n",
       "  0.013956751674413681,\n",
       "  0.022129349410533905,\n",
       "  -0.028661321848630905,\n",
       "  0.04645637050271034,\n",
       "  0.040504340082407,\n",
       "  0.04895927757024765,\n",
       "  0.06983717530965805,\n",
       "  -0.023518156260252,\n",
       "  -0.18081967532634735,\n",
       "  0.0666017085313797,\n",
       "  -0.039893873035907745,\n",
       "  -0.0045975628308951855,\n",
       "  -0.03671945631504059,\n",
       "  -0.07673542201519012,\n",
       "  -0.0018065943149849772,\n",
       "  -0.056620609015226364,\n",
       "  0.033758703619241714,\n",
       "  0.03769620135426521,\n",
       "  -0.0011398522183299065,\n",
       "  -0.001087390468455851,\n",
       "  -0.01259846705943346,\n",
       "  0.024327022954821587,\n",
       "  0.03751306235790253,\n",
       "  -0.054789215326309204,\n",
       "  -0.01507848035544157,\n",
       "  -0.027913503348827362,\n",
       "  0.07209589332342148,\n",
       "  -0.006226740777492523,\n",
       "  0.03096582740545273,\n",
       "  0.014933494850993156,\n",
       "  0.06422089785337448,\n",
       "  -0.04151160642504692,\n",
       "  -0.006932591088116169,\n",
       "  -0.039222363382577896,\n",
       "  -0.0020107184536755085,\n",
       "  -0.05784153938293457,\n",
       "  -0.039893873035907745,\n",
       "  -0.05301886796951294,\n",
       "  -0.01462063193321228,\n",
       "  0.022800860926508904,\n",
       "  -0.05839095637202263,\n",
       "  -0.03354503959417343,\n",
       "  0.031652599573135376,\n",
       "  -0.04660898819565773,\n",
       "  -0.032720912247896194,\n",
       "  0.3745811879634857,\n",
       "  0.016757259145379066,\n",
       "  0.01813080534338951,\n",
       "  0.05127904191613197,\n",
       "  -0.04813515022397041,\n",
       "  0.02154940739274025,\n",
       "  -0.05198107659816742,\n",
       "  -0.035712189972400665,\n",
       "  -0.04465549811720848,\n",
       "  -0.06818892061710358,\n",
       "  -0.011911693960428238,\n",
       "  -0.010469471104443073,\n",
       "  -0.03580376133322716,\n",
       "  0.032720912247896194,\n",
       "  0.06995926797389984,\n",
       "  0.03143893554806709,\n",
       "  0.026982543990015984,\n",
       "  0.06635752320289612,\n",
       "  0.049172937870025635,\n",
       "  0.07264531403779984,\n",
       "  0.0013277609832584858,\n",
       "  0.02426597662270069,\n",
       "  0.02965332753956318,\n",
       "  -0.0006419419078156352,\n",
       "  0.012064310722053051,\n",
       "  -0.06281682848930359,\n",
       "  -0.012224557809531689,\n",
       "  0.001959210494533181,\n",
       "  0.07594182342290878,\n",
       "  0.005616276059299707,\n",
       "  -0.03214097023010254,\n",
       "  0.05588805302977562,\n",
       "  -0.0008160197176039219,\n",
       "  -0.05759735405445099,\n",
       "  0.009126449003815651,\n",
       "  0.04776887223124504,\n",
       "  0.0044106082059443,\n",
       "  0.0084854606539011,\n",
       "  -0.04377032443881035,\n",
       "  0.04807410389184952,\n",
       "  -0.04337352514266968,\n",
       "  -0.028523968532681465,\n",
       "  0.021320482715964317,\n",
       "  0.09218018501996994,\n",
       "  -0.03195783123373985,\n",
       "  0.009904791601002216,\n",
       "  0.046822648495435715,\n",
       "  0.0070508685894310474,\n",
       "  0.02844765968620777,\n",
       "  -0.000509833509568125,\n",
       "  -0.044319745153188705,\n",
       "  -0.028233997523784637,\n",
       "  0.08522088825702667,\n",
       "  -0.0011656061979010701,\n",
       "  -0.0028806307818740606,\n",
       "  -0.05066857859492302,\n",
       "  0.0417557917535305,\n",
       "  0.0009447896736674011,\n",
       "  -0.0326598659157753,\n",
       "  -0.007653702516108751,\n",
       "  0.07386624068021774,\n",
       "  -0.0430682897567749,\n",
       "  0.04975287988781929,\n",
       "  -0.034552305936813354,\n",
       "  0.0015118542360141873,\n",
       "  0.05518601834774017,\n",
       "  -0.1853371113538742,\n",
       "  0.0365363173186779,\n",
       "  0.03931393474340439,\n",
       "  0.011125721037387848,\n",
       "  -0.036108992993831635,\n",
       "  -0.01188117079436779,\n",
       "  -0.03562062233686447,\n",
       "  0.04712788388133049,\n",
       "  -0.002842476824298501,\n",
       "  -0.013682042248547077,\n",
       "  -0.007691856473684311,\n",
       "  -0.04096218943595886,\n",
       "  0.07148543000221252,\n",
       "  -0.010644979774951935,\n",
       "  0.04630375653505325,\n",
       "  -0.021579930558800697,\n",
       "  -0.035590097308158875,\n",
       "  -0.05195055529475212,\n",
       "  -0.019031239673495293,\n",
       "  0.06635752320289612,\n",
       "  -0.032965097576379776,\n",
       "  0.05527758598327637,\n",
       "  -0.009248541668057442,\n",
       "  0.073133684694767,\n",
       "  -0.0054445830173790455,\n",
       "  -0.0007249269401654601,\n",
       "  0.11592726409435272,\n",
       "  -0.0926685556769371,\n",
       "  0.1213603988289833,\n",
       "  -0.04254939779639244,\n",
       "  -0.007981827482581139,\n",
       "  0.014689309522509575,\n",
       "  0.05805520340800285,\n",
       "  -0.021640976890921593,\n",
       "  -0.061168573796749115,\n",
       "  -0.014048321172595024,\n",
       "  -0.009714021347463131,\n",
       "  0.019779060035943985,\n",
       "  0.012331388890743256,\n",
       "  0.051126427948474884,\n",
       "  -0.03430812060832977,\n",
       "  0.02142731472849846,\n",
       "  0.012293234467506409,\n",
       "  0.00453651649877429,\n",
       "  0.015574483200907707,\n",
       "  0.025883708149194717,\n",
       "  -0.0009242818341590464,\n",
       "  0.07624705135822296,\n",
       "  -0.025792136788368225,\n",
       "  -0.05677322670817375,\n",
       "  -0.059611886739730835,\n",
       "  -0.06831101328134537,\n",
       "  0.05170636996626854,\n",
       "  -0.016543595120310783,\n",
       "  -0.0049485801719129086,\n",
       "  -0.015887346118688583,\n",
       "  -0.010896796360611916,\n",
       "  0.026875711977481842,\n",
       "  -0.27617427706718445,\n",
       "  0.004349561873823404,\n",
       "  -0.02469330094754696,\n",
       "  -0.047860439866781235,\n",
       "  -0.021045774221420288,\n",
       "  -0.07398833334445953,\n",
       "  -0.02115260437130928,\n",
       "  -0.04609009250998497,\n",
       "  0.03093530423939228,\n",
       "  0.05390404164791107,\n",
       "  0.08662495762109756,\n",
       "  -0.012880806811153889,\n",
       "  0.0769796073436737,\n",
       "  0.04203050211071968,\n",
       "  0.055827006697654724,\n",
       "  0.048501428216695786,\n",
       "  0.02844765968620777,\n",
       "  -0.02440332993865013,\n",
       "  0.004170237574726343,\n",
       "  0.0017827480332925916,\n",
       "  -0.03464387729763985,\n",
       "  0.086197629570961,\n",
       "  0.021213652566075325,\n",
       "  -0.023930219933390617,\n",
       "  0.0352238193154335,\n",
       "  -0.04560172185301781,\n",
       "  0.06940984725952148,\n",
       "  -0.028096642345190048,\n",
       "  0.00815733615309,\n",
       "  0.028020333498716354,\n",
       "  -0.032049402594566345,\n",
       "  0.06095490977168083,\n",
       "  -0.020160600543022156,\n",
       "  -0.07429356873035431,\n",
       "  0.019260164350271225,\n",
       "  -0.0038573744241148233,\n",
       "  0.0025086288806051016,\n",
       "  0.029973821714520454,\n",
       "  -0.05155375227332115,\n",
       "  -0.08918890357017517,\n",
       "  -0.03757410869002342,\n",
       "  0.027516700327396393,\n",
       "  0.01657412014901638,\n",
       "  -0.08546507358551025,\n",
       "  -0.008325213566422462,\n",
       "  0.011614092625677586,\n",
       "  0.00014498538803309202,\n",
       "  0.04673108085989952,\n",
       "  -0.025700567290186882,\n",
       "  -0.03357556462287903,\n",
       "  0.014086475595831871,\n",
       "  0.0012142526684328914,\n",
       "  0.012033787555992603,\n",
       "  0.03351451829075813,\n",
       "  0.056986887007951736,\n",
       "  -0.022434581071138382,\n",
       "  -0.1057325005531311,\n",
       "  0.04203050211071968,\n",
       "  -0.004017621278762817,\n",
       "  -0.012590836733579636,\n",
       "  -0.020969465374946594,\n",
       "  -0.029699113219976425,\n",
       "  -0.06849414855241776,\n",
       "  -0.05005811154842377,\n",
       "  -0.017550863325595856,\n",
       "  -0.008653338067233562,\n",
       "  -0.00907303299754858,\n",
       "  -0.08180228620767593,\n",
       "  -0.030614810064435005,\n",
       "  -0.07349996268749237,\n",
       "  0.038581375032663345,\n",
       "  0.078322634100914,\n",
       "  -0.023930219933390617,\n",
       "  0.02701306715607643,\n",
       "  0.05625433102250099,\n",
       "  -0.005787969566881657,\n",
       "  0.08900576829910278,\n",
       "  -0.03485754132270813,\n",
       "  0.03549852967262268,\n",
       "  -0.03226306289434433,\n",
       "  0.002874907571822405,\n",
       "  0.05967293307185173,\n",
       "  0.0009209433919750154,\n",
       "  0.04761625453829765,\n",
       "  0.04187788441777229,\n",
       "  0.04065695405006409,\n",
       "  0.07020345330238342,\n",
       "  0.02911917120218277,\n",
       "  0.029439665377140045,\n",
       "  0.016787782311439514,\n",
       "  -0.021259436383843422,\n",
       "  -0.003964205738157034,\n",
       "  0.011965109966695309,\n",
       "  -0.061443280428647995,\n",
       "  0.017276152968406677,\n",
       "  -0.002489551668986678,\n",
       "  -0.21488361060619354,\n",
       "  0.03342294692993164,\n",
       "  -0.014902971684932709,\n",
       "  -0.01057630218565464,\n",
       "  -0.03446073830127716,\n",
       "  -0.0378793403506279,\n",
       "  0.046792127192020416,\n",
       "  -0.007039422169327736,\n",
       "  0.0023083200212568045,\n",
       "  0.04673108085989952,\n",
       "  -0.06068019941449165,\n",
       "  -0.0248001329600811,\n",
       "  0.028279781341552734,\n",
       "  0.017413508147001266,\n",
       "  -0.0033308486454188824,\n",
       "  -0.011514891870319843,\n",
       "  0.10542727261781693,\n",
       "  0.024479638785123825,\n",
       "  0.03183573856949806,\n",
       "  0.012499266304075718,\n",
       "  0.019275426864624023,\n",
       "  -0.019229641184210777,\n",
       "  0.08369472622871399,\n",
       "  -0.04099271073937416,\n",
       "  -0.020343739539384842,\n",
       "  -0.014506169594824314,\n",
       "  0.028661321848630905,\n",
       "  -0.001531885121949017,\n",
       "  0.01507848035544157,\n",
       "  0.012102464213967323,\n",
       "  -0.014559585601091385,\n",
       "  0.0001464161614421755,\n",
       "  -0.0007215884397737682,\n",
       "  0.04844038188457489,\n",
       "  0.010003991425037384,\n",
       "  0.010904427617788315,\n",
       "  -0.05832991003990173,\n",
       "  -0.0042618075385689735,\n",
       "  -0.03946654871106148,\n",
       "  0.05967293307185173,\n",
       "  -0.07557554543018341,\n",
       "  -0.03855085372924805,\n",
       "  -0.08839530497789383,\n",
       "  0.029943298548460007,\n",
       "  0.056345902383327484,\n",
       "  0.014735094271600246,\n",
       "  -0.033636610954999924,\n",
       "  0.04856247454881668,\n",
       "  -0.032446205615997314,\n",
       "  -0.02716568298637867,\n",
       "  0.03906974568963051,\n",
       "  -0.04621218517422676,\n",
       "  -0.01378124300390482,\n",
       "  0.008599922992289066,\n",
       "  0.05030230060219765,\n",
       "  -0.03464387729763985,\n",
       "  -0.010103192180395126,\n",
       "  0.018451297655701637,\n",
       "  0.04645637050271034,\n",
       "  -0.00043567156535573304,\n",
       "  0.030477454885840416,\n",
       "  0.003454849123954773,\n",
       "  -0.008035242557525635,\n",
       "  0.048257242888212204,\n",
       "  -0.0014803771628066897],\n",
       " [-0.01973591186106205,\n",
       "  0.02898568846285343,\n",
       "  0.02109437622129917,\n",
       "  -0.05913141369819641,\n",
       "  0.0432572104036808,\n",
       "  -0.007700515910983086,\n",
       "  0.009661896154284477,\n",
       "  0.006029145326465368,\n",
       "  0.004659231752157211,\n",
       "  0.024803446605801582,\n",
       "  0.020529622212052345,\n",
       "  -0.02687930315732956,\n",
       "  0.026894567534327507,\n",
       "  0.005315569229424,\n",
       "  0.03956340625882149,\n",
       "  -0.02755090408027172,\n",
       "  0.0166984423995018,\n",
       "  -0.13944879174232483,\n",
       "  -0.04670679569244385,\n",
       "  0.014179939404129982,\n",
       "  0.010997466742992401,\n",
       "  0.044447775930166245,\n",
       "  -0.003176748985424638,\n",
       "  0.03005414456129074,\n",
       "  -0.014157043769955635,\n",
       "  0.06654955446720123,\n",
       "  0.03461797907948494,\n",
       "  -0.0409676618874073,\n",
       "  -0.0029134508222341537,\n",
       "  -0.20209084451198578,\n",
       "  -0.0065519255585968494,\n",
       "  -0.008395012468099594,\n",
       "  0.004239481408149004,\n",
       "  0.02839040569961071,\n",
       "  -0.09200933575630188,\n",
       "  -0.016271060332655907,\n",
       "  -0.07772254943847656,\n",
       "  -0.028069868683815002,\n",
       "  -0.04533306881785393,\n",
       "  0.03293897584080696,\n",
       "  -0.02726089581847191,\n",
       "  0.039136022329330444,\n",
       "  0.01889641024172306,\n",
       "  -0.02178124152123928,\n",
       "  -0.024696599692106247,\n",
       "  -0.04905740171670914,\n",
       "  0.046951014548540115,\n",
       "  0.04612677916884422,\n",
       "  -0.012668836861848831,\n",
       "  -0.05812401324510574,\n",
       "  -0.02344498038291931,\n",
       "  0.015095759183168411,\n",
       "  -0.002302904613316059,\n",
       "  0.05708608403801918,\n",
       "  -0.048233162611722946,\n",
       "  -0.04875212907791138,\n",
       "  0.025108719244599342,\n",
       "  0.06636638939380646,\n",
       "  0.020590675994753838,\n",
       "  0.004975952673703432,\n",
       "  0.05030902102589607,\n",
       "  0.016042105853557587,\n",
       "  -0.0993969514966011,\n",
       "  0.09829796850681305,\n",
       "  -0.08254586905241013,\n",
       "  -0.03029836341738701,\n",
       "  -0.01723267138004303,\n",
       "  -0.03916655108332634,\n",
       "  0.03736543655395508,\n",
       "  0.027230367064476013,\n",
       "  -0.05253751575946808,\n",
       "  -0.03132103011012077,\n",
       "  0.04063186049461365,\n",
       "  0.032908450812101364,\n",
       "  0.03559485450387001,\n",
       "  0.07204446941614151,\n",
       "  0.025398729369044304,\n",
       "  -0.006082568317651749,\n",
       "  0.025597156956791878,\n",
       "  0.02999309077858925,\n",
       "  0.03849494829773903,\n",
       "  -0.03257264941930771,\n",
       "  -0.02632981166243553,\n",
       "  0.018499555066227913,\n",
       "  -0.003655646461993456,\n",
       "  -0.009058982133865356,\n",
       "  0.003665186231955886,\n",
       "  0.014195202849805355,\n",
       "  -0.03196210041642189,\n",
       "  0.022666534408926964,\n",
       "  -0.04197506234049797,\n",
       "  -0.010356392711400986,\n",
       "  -0.011714858002960682,\n",
       "  0.02491029165685177,\n",
       "  -0.0797373577952385,\n",
       "  -0.053850188851356506,\n",
       "  -0.03477061539888382,\n",
       "  0.007124312687665224,\n",
       "  0.0007755846600048244,\n",
       "  0.39514559507369995,\n",
       "  0.011195894330739975,\n",
       "  0.01488206721842289,\n",
       "  0.025001874193549156,\n",
       "  -0.01692739874124527,\n",
       "  -0.012134608812630177,\n",
       "  -0.05244593322277069,\n",
       "  -0.03425165265798569,\n",
       "  0.042310863733291626,\n",
       "  -0.03422112390398979,\n",
       "  0.014141780324280262,\n",
       "  -0.04667627066373825,\n",
       "  -0.03849494829773903,\n",
       "  0.0023200761061161757,\n",
       "  0.01587420515716076,\n",
       "  -0.024177636951208115,\n",
       "  0.01784321665763855,\n",
       "  0.04499726742506027,\n",
       "  -0.018469028174877167,\n",
       "  0.04234138876199722,\n",
       "  0.02399447187781334,\n",
       "  -0.016484752297401428,\n",
       "  0.012165136635303497,\n",
       "  -0.026925094425678253,\n",
       "  -0.07992052286863327,\n",
       "  0.035869598388671875,\n",
       "  -0.011463007889688015,\n",
       "  0.08089739084243774,\n",
       "  0.02680298499763012,\n",
       "  -0.003165301401168108,\n",
       "  0.021216485649347305,\n",
       "  0.09896956384181976,\n",
       "  0.04002131521701813,\n",
       "  -0.06096305325627327,\n",
       "  0.05656712129712105,\n",
       "  0.000570002244785428,\n",
       "  -0.02550557442009449,\n",
       "  0.010692193172872066,\n",
       "  0.041028715670108795,\n",
       "  0.03205368295311928,\n",
       "  -0.04621836170554161,\n",
       "  -0.0015149181708693504,\n",
       "  0.02110964059829712,\n",
       "  0.06716009974479675,\n",
       "  -0.06899174302816391,\n",
       "  -0.02564294822514057,\n",
       "  0.04539412260055542,\n",
       "  -0.04676785320043564,\n",
       "  -0.0049530575051903725,\n",
       "  0.000673508970066905,\n",
       "  -0.01343965157866478,\n",
       "  0.013592288829386234,\n",
       "  0.02550557442009449,\n",
       "  0.0432877391576767,\n",
       "  -0.03782334551215172,\n",
       "  -0.006403104867786169,\n",
       "  0.01912536472082138,\n",
       "  0.09377992153167725,\n",
       "  0.0025146878324449062,\n",
       "  -0.10232757031917572,\n",
       "  -0.015660515055060387,\n",
       "  -0.007814993150532246,\n",
       "  -0.00014882067625876516,\n",
       "  -0.06862541288137436,\n",
       "  0.04151715338230133,\n",
       "  0.06062725558876991,\n",
       "  -0.16057369112968445,\n",
       "  -0.0015588011592626572,\n",
       "  0.009898482821881771,\n",
       "  0.03446534276008606,\n",
       "  -0.036022234708070755,\n",
       "  -0.011104311794042587,\n",
       "  0.014813381247222424,\n",
       "  -0.07961524277925491,\n",
       "  0.011501166969537735,\n",
       "  0.028207242488861084,\n",
       "  0.027749331668019295,\n",
       "  -0.06636638939380646,\n",
       "  -0.02399447187781334,\n",
       "  -0.005250698886811733,\n",
       "  -0.014996545389294624,\n",
       "  -0.06319154798984528,\n",
       "  0.016057370230555534,\n",
       "  0.05800190567970276,\n",
       "  0.0071357605047523975,\n",
       "  -0.06270311027765274,\n",
       "  -0.008601072244346142,\n",
       "  0.0011199710424989462,\n",
       "  -0.004052501637488604,\n",
       "  0.0417613722383976,\n",
       "  -0.10379288345575333,\n",
       "  0.015736833214759827,\n",
       "  0.02588716521859169,\n",
       "  -0.04044869542121887,\n",
       "  0.0971379280090332,\n",
       "  -0.00407921290025115,\n",
       "  0.07277712970972061,\n",
       "  -0.058398760855197906,\n",
       "  -0.013790716417133808,\n",
       "  -0.056506067514419556,\n",
       "  -0.025994012132287025,\n",
       "  0.008166057989001274,\n",
       "  -0.018713247030973434,\n",
       "  -0.028436196967959404,\n",
       "  -0.005754399579018354,\n",
       "  0.043989866971969604,\n",
       "  -0.049301620572805405,\n",
       "  0.0333968847990036,\n",
       "  0.0050255595706403255,\n",
       "  0.0333968847990036,\n",
       "  0.025322411209344864,\n",
       "  -0.03590012714266777,\n",
       "  0.04789736121892929,\n",
       "  0.07173919677734375,\n",
       "  0.006910621654242277,\n",
       "  0.01199723593890667,\n",
       "  0.005044639576226473,\n",
       "  -0.032603174448013306,\n",
       "  0.016454225406050682,\n",
       "  -0.0007951412699185312,\n",
       "  -0.0009191584540531039,\n",
       "  0.01305806078016758,\n",
       "  0.021842295303940773,\n",
       "  -0.013897561468183994,\n",
       "  -0.3045405149459839,\n",
       "  -0.054399680346250534,\n",
       "  0.011226421222090721,\n",
       "  -0.010417447425425053,\n",
       "  -0.04267719015479088,\n",
       "  -0.02764248661696911,\n",
       "  -0.002482252661138773,\n",
       "  -0.01853008195757866,\n",
       "  0.15275870263576508,\n",
       "  -0.0017305173678323627,\n",
       "  0.06990756094455719,\n",
       "  0.02117069438099861,\n",
       "  0.06856435537338257,\n",
       "  -0.00918872281908989,\n",
       "  0.07247185707092285,\n",
       "  0.027199840173125267,\n",
       "  -0.04688996076583862,\n",
       "  0.05574288219213486,\n",
       "  -0.02216283231973648,\n",
       "  -0.015271291136741638,\n",
       "  0.00419369013980031,\n",
       "  0.029321489855647087,\n",
       "  0.028283560648560524,\n",
       "  -0.04069291427731514,\n",
       "  -0.02095700427889824,\n",
       "  0.0675874799489975,\n",
       "  0.04456988349556923,\n",
       "  -0.09493996202945709,\n",
       "  0.04093713313341141,\n",
       "  -0.009959537535905838,\n",
       "  0.015080494806170464,\n",
       "  0.026512976735830307,\n",
       "  0.03574749082326889,\n",
       "  -0.035716962069272995,\n",
       "  0.05479653552174568,\n",
       "  -0.014088357798755169,\n",
       "  0.036022234708070755,\n",
       "  -0.026619821786880493,\n",
       "  -0.06108516454696655,\n",
       "  -0.02602453902363777,\n",
       "  0.01317253801971674,\n",
       "  0.017354780808091164,\n",
       "  -0.02445238269865513,\n",
       "  -0.04994269087910652,\n",
       "  -0.047714199870824814,\n",
       "  0.011493535712361336,\n",
       "  -0.0017629526555538177,\n",
       "  -0.04371511936187744,\n",
       "  -0.02078910358250141,\n",
       "  0.013332806527614594,\n",
       "  -0.04374564811587334,\n",
       "  0.057574521750211716,\n",
       "  0.020132767036557198,\n",
       "  0.012310140766203403,\n",
       "  0.03773176670074463,\n",
       "  0.016912134364247322,\n",
       "  -0.047256287187337875,\n",
       "  0.006941149011254311,\n",
       "  -0.04682890698313713,\n",
       "  -0.03125997260212898,\n",
       "  -0.05720819532871246,\n",
       "  -0.003249251516535878,\n",
       "  -0.024635545909404755,\n",
       "  -0.03159577399492264,\n",
       "  0.0032912264578044415,\n",
       "  -0.0043615903705358505,\n",
       "  -0.0189727284014225,\n",
       "  0.028710942715406418,\n",
       "  -0.015401031821966171,\n",
       "  0.05073640123009682,\n",
       "  -0.016942661255598068,\n",
       "  0.05342280864715576,\n",
       "  -0.04359301179647446,\n",
       "  0.04753103479743004,\n",
       "  -0.01790427230298519,\n",
       "  0.015294186770915985,\n",
       "  0.07399822026491165,\n",
       "  -0.0356864333152771,\n",
       "  -0.01799585483968258,\n",
       "  -0.03593065217137337,\n",
       "  0.05662817507982254,\n",
       "  0.06325260549783707,\n",
       "  0.03999078646302223,\n",
       "  0.012500937096774578,\n",
       "  0.04844685271382332,\n",
       "  0.07869942486286163,\n",
       "  0.06868646293878555,\n",
       "  -0.0030412841588258743,\n",
       "  0.02443711832165718,\n",
       "  0.048233162611722946,\n",
       "  -0.07998157292604446,\n",
       "  -0.001723839552141726,\n",
       "  0.021827032789587975,\n",
       "  -0.09689370542764664,\n",
       "  0.06795381009578705,\n",
       "  -0.02846672385931015,\n",
       "  -0.19537483155727386,\n",
       "  0.015385768376290798,\n",
       "  -0.0035888678394258022,\n",
       "  0.020209085196256638,\n",
       "  -0.08089739084243774,\n",
       "  -0.06789275258779526,\n",
       "  -0.016576332971453667,\n",
       "  -0.0675874799489975,\n",
       "  -0.0774172767996788,\n",
       "  0.019155891612172127,\n",
       "  0.0033045820891857147,\n",
       "  -0.026314549148082733,\n",
       "  0.03406848758459091,\n",
       "  0.041944533586502075,\n",
       "  -0.00041283428436145186,\n",
       "  0.0319010466337204,\n",
       "  0.11728595942258835,\n",
       "  -0.007524983957409859,\n",
       "  0.02397920936346054,\n",
       "  -0.03248106688261032,\n",
       "  0.022605478763580322,\n",
       "  0.004777525085955858,\n",
       "  0.11282896995544434,\n",
       "  0.054399680346250534,\n",
       "  0.05357544496655464,\n",
       "  0.038464419543743134,\n",
       "  0.023185499012470245,\n",
       "  0.0235365629196167,\n",
       "  0.0008084969595074654,\n",
       "  0.006799960043281317,\n",
       "  -0.019339056685566902,\n",
       "  -0.0470731258392334,\n",
       "  0.007479193154722452,\n",
       "  0.03477061539888382,\n",
       "  -0.01761426217854023,\n",
       "  -0.009890851564705372,\n",
       "  -0.04157820716500282,\n",
       "  0.05977248772978783,\n",
       "  -0.037395965307950974,\n",
       "  0.011027993634343147,\n",
       "  0.0023486956488341093,\n",
       "  0.04432566463947296,\n",
       "  -0.02663508430123329,\n",
       "  -0.0002773693122435361,\n",
       "  0.09774847328662872,\n",
       "  0.009028454311192036,\n",
       "  -0.08230164647102356,\n",
       "  0.019995393231511116,\n",
       "  -0.050370074808597565,\n",
       "  -0.025078192353248596,\n",
       "  0.0003966166405007243,\n",
       "  -0.05207960680127144,\n",
       "  -0.0010388827649876475,\n",
       "  -0.019415374845266342,\n",
       "  -0.005307937506586313,\n",
       "  0.030481526628136635,\n",
       "  -0.05284278839826584,\n",
       "  -0.01317253801971674,\n",
       "  0.050889041274785995,\n",
       "  0.026757193729281425,\n",
       "  0.0387086383998394,\n",
       "  -0.025444520637392998,\n",
       "  0.006731273606419563,\n",
       "  0.054094407707452774,\n",
       "  -0.014248625375330448]]"
      ]
     },
     "execution_count": 80,
     "metadata": {},
     "output_type": "execute_result"
    }
   ],
   "source": [
    "data_embeddings"
   ]
  },
  {
   "cell_type": "code",
   "execution_count": 81,
   "metadata": {},
   "outputs": [],
   "source": [
    "data_similarity = cosine_similarity(user_prompt_embedding, data_embeddings)"
   ]
  },
  {
   "cell_type": "code",
   "execution_count": null,
   "metadata": {},
   "outputs": [
    {
     "data": {
      "text/plain": [
       "array([[0.81037814, 0.5503224 ]])"
      ]
     },
     "execution_count": 82,
     "metadata": {},
     "output_type": "execute_result"
    }
   ],
   "source": [
    "data_similarity"
   ]
  },
  {
   "cell_type": "code",
   "execution_count": 84,
   "metadata": {},
   "outputs": [
    {
     "data": {
      "text/plain": [
       "np.int64(0)"
      ]
     },
     "execution_count": 84,
     "metadata": {},
     "output_type": "execute_result"
    }
   ],
   "source": [
    "closest_entry_index = data_similarity.argmax()\n",
    "closest_entry_index"
   ]
  },
  {
   "cell_type": "code",
   "execution_count": 85,
   "metadata": {},
   "outputs": [
    {
     "data": {
      "text/plain": [
       "'\\nCUPERTINO, CALIFORNIA Apple today announced iPhone 16 and iPhone 16 Plus, built for Apple Intelligence, the easy-to-use personal intelligence system that understands personal context to deliver intelligence that is helpful and relevant while protecting user privacy. The iPhone 16 lineup also introduces Camera Control, which brings new ways to capture memories, and will help users quickly access visual intelligence to learn about objects or places around them faster than ever before. The powerful camera system features a 48MP Fusion camera with a 2x Telephoto option, giving users two cameras in one, while a new Ultra Wide camera enables macro photography. Next-generation Photographic Styles help users personalize their images, and spatial photo and video capture allows users to relive life’s precious memories with remarkable depth on Apple Vision Pro. The new A18 chip delivers a huge leap in performance and efficiency, enabling demanding AAA games, as well as a big boost in battery life.\\niPhone 16 and iPhone 16 Plus will be available in five bold colors: black, white, pink, teal, and ultramarine. Pre-orders begin Friday, September 13, with availability beginning Friday, September 20.\\n“iPhone 16 and iPhone 16 Plus mark the beginning of a new era for iPhone with Apple Intelligence delivering powerful, personal, and private experiences to our users,” said Kaiann Drance, Apple’s vice president of Worldwide iPhone Product Marketing. “With new ways to discover the world around you and capture memories using Camera Control; a 48MP Fusion camera that gives you two optical-quality cameras in one; a big boost in battery life; and powerful, efficient performance thanks to the A18 chip, this is the perfect time for customers to upgrade or make the switch to iPhone.”\\nApple Intelligence unlocks new ways for users to enhance their writing. With systemwide Writing Tools built into iOS 18, users can rewrite, proofread, and summarize text nearly everywhere they write, including Mail, Notes, Pages, and third-party apps. In the Notes and Phone apps, users can also record, transcribe, and summarize audio. When a recording is initiated while on a call in the Phone app, participants are automatically notified, and once the call ends, Apple Intelligence generates a summary to recall key points.\\n'"
      ]
     },
     "execution_count": 85,
     "metadata": {},
     "output_type": "execute_result"
    }
   ],
   "source": [
    "data[closest_entry_index]"
   ]
  },
  {
   "cell_type": "code",
   "execution_count": 86,
   "metadata": {},
   "outputs": [],
   "source": [
    "user_prompt_with_data = f\"\"\"\n",
    "{data[closest_entry_index]}\n",
    "\n",
    "{user_prompt}\n",
    "\"\"\""
   ]
  },
  {
   "cell_type": "code",
   "execution_count": 87,
   "metadata": {},
   "outputs": [
    {
     "name": "stdout",
     "output_type": "stream",
     "text": [
      "\n",
      "\n",
      "CUPERTINO, CALIFORNIA Apple today announced iPhone 16 and iPhone 16 Plus, built for Apple Intelligence, the easy-to-use personal intelligence system that understands personal context to deliver intelligence that is helpful and relevant while protecting user privacy. The iPhone 16 lineup also introduces Camera Control, which brings new ways to capture memories, and will help users quickly access visual intelligence to learn about objects or places around them faster than ever before. The powerful camera system features a 48MP Fusion camera with a 2x Telephoto option, giving users two cameras in one, while a new Ultra Wide camera enables macro photography. Next-generation Photographic Styles help users personalize their images, and spatial photo and video capture allows users to relive life’s precious memories with remarkable depth on Apple Vision Pro. The new A18 chip delivers a huge leap in performance and efficiency, enabling demanding AAA games, as well as a big boost in battery life.\n",
      "iPhone 16 and iPhone 16 Plus will be available in five bold colors: black, white, pink, teal, and ultramarine. Pre-orders begin Friday, September 13, with availability beginning Friday, September 20.\n",
      "“iPhone 16 and iPhone 16 Plus mark the beginning of a new era for iPhone with Apple Intelligence delivering powerful, personal, and private experiences to our users,” said Kaiann Drance, Apple’s vice president of Worldwide iPhone Product Marketing. “With new ways to discover the world around you and capture memories using Camera Control; a 48MP Fusion camera that gives you two optical-quality cameras in one; a big boost in battery life; and powerful, efficient performance thanks to the A18 chip, this is the perfect time for customers to upgrade or make the switch to iPhone.”\n",
      "Apple Intelligence unlocks new ways for users to enhance their writing. With systemwide Writing Tools built into iOS 18, users can rewrite, proofread, and summarize text nearly everywhere they write, including Mail, Notes, Pages, and third-party apps. In the Notes and Phone apps, users can also record, transcribe, and summarize audio. When a recording is initiated while on a call in the Phone app, participants are automatically notified, and once the call ends, Apple Intelligence generates a summary to recall key points.\n",
      "\n",
      "\n",
      "What's new in iphone 16\n",
      "\n"
     ]
    }
   ],
   "source": [
    "print(user_prompt_with_data)"
   ]
  },
  {
   "cell_type": "code",
   "execution_count": 88,
   "metadata": {},
   "outputs": [],
   "source": [
    "messages = [{\"role\": \"user\", \"content\": user_prompt_with_data}]\n",
    "response = get_chatbot_response(client, model_name, messages)"
   ]
  },
  {
   "cell_type": "code",
   "execution_count": 89,
   "metadata": {},
   "outputs": [
    {
     "name": "stdout",
     "output_type": "stream",
     "text": [
      "According to the article, the new features and improvements in iPhone 16 and iPhone 16 Plus include:\n",
      "\n",
      "1. Apple Intelligence: a personal intelligence system that understands personal context to deliver helpful and relevant information while protecting user privacy.\n",
      "2. Camera Control: new ways to capture memories, including:\n",
      "\t* 48MP Fusion camera with a 2x Telephoto option, giving users two cameras in one.\n",
      "\t* Ultra Wide camera for macro photography.\n",
      "\t* Next-generation Photographic Styles to personalize images.\n",
      "\t* Spatial photo and video capture for remarkable depth on Apple Vision Pro.\n",
      "3. A18 chip: delivers a huge leap in performance and efficiency, enabling demanding AAA games and a big boost in battery life.\n",
      "4. New colors: available in five bold colors: black, white, pink, teal, and ultramarine.\n",
      "5. Apple Intelligence Writing Tools: systemwide tools built into iOS 18 that allow users to rewrite, proofread, and summarize text nearly everywhere they write, including Mail, Notes, Pages, and third-party apps.\n",
      "6. Audio recording and transcription: users can record, transcribe, and summarize audio in the Notes and Phone apps, with automatic notification and summary generation for phone calls.\n",
      "\n",
      "These are the main new features and improvements in iPhone 16 and iPhone 16 Plus.\n"
     ]
    }
   ],
   "source": [
    "print(response)"
   ]
  },
  {
   "cell_type": "code",
   "execution_count": null,
   "metadata": {},
   "outputs": [],
   "source": []
  }
 ],
 "metadata": {
  "kernelspec": {
   "display_name": "venv",
   "language": "python",
   "name": "python3"
  },
  "language_info": {
   "codemirror_mode": {
    "name": "ipython",
    "version": 3
   },
   "file_extension": ".py",
   "mimetype": "text/x-python",
   "name": "python",
   "nbconvert_exporter": "python",
   "pygments_lexer": "ipython3",
   "version": "3.10.12"
  }
 },
 "nbformat": 4,
 "nbformat_minor": 2
}
