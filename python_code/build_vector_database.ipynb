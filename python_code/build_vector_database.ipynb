{
 "cells": [
  {
   "cell_type": "code",
   "execution_count": 27,
   "metadata": {},
   "outputs": [
    {
     "data": {
      "text/plain": [
       "True"
      ]
     },
     "execution_count": 27,
     "metadata": {},
     "output_type": "execute_result"
    }
   ],
   "source": [
    "from pinecone import Pinecone, ServerlessSpec\n",
    "from openai import OpenAI\n",
    "import os\n",
    "import time\n",
    "import pandas as pd\n",
    "import dotenv\n",
    "dotenv.load_dotenv()"
   ]
  },
  {
   "cell_type": "code",
   "execution_count": 13,
   "metadata": {},
   "outputs": [],
   "source": [
    "token = os.getenv(\"RUNPOD_TOKEN\")\n",
    "open_ai_base_url = os.getenv(\"RUNPOD_EMBEDDING_URL\")\n",
    "model_name = os.getenv(\"MODEL_NAME\")\n",
    "pinecone_api_key = os.getenv(\"PINECONE_SECRET\")\n",
    "pinecone_index_name = os.getenv(\"PINECONE_INDEX_NAME\")"
   ]
  },
  {
   "cell_type": "code",
   "execution_count": 14,
   "metadata": {},
   "outputs": [],
   "source": [
    "pc = Pinecone(api_key=pinecone_api_key)\n",
    "client = OpenAI(\n",
    "    api_key=token,\n",
    "    base_url=open_ai_base_url\n",
    ")"
   ]
  },
  {
   "cell_type": "code",
   "execution_count": 15,
   "metadata": {},
   "outputs": [
    {
     "data": {
      "text/html": [
       "<div>\n",
       "<style scoped>\n",
       "    .dataframe tbody tr th:only-of-type {\n",
       "        vertical-align: middle;\n",
       "    }\n",
       "\n",
       "    .dataframe tbody tr th {\n",
       "        vertical-align: top;\n",
       "    }\n",
       "\n",
       "    .dataframe thead th {\n",
       "        text-align: right;\n",
       "    }\n",
       "</style>\n",
       "<table border=\"1\" class=\"dataframe\">\n",
       "  <thead>\n",
       "    <tr style=\"text-align: right;\">\n",
       "      <th></th>\n",
       "      <th>name</th>\n",
       "      <th>category</th>\n",
       "      <th>description</th>\n",
       "      <th>ingredients</th>\n",
       "      <th>price</th>\n",
       "      <th>rating</th>\n",
       "      <th>image_path</th>\n",
       "    </tr>\n",
       "  </thead>\n",
       "  <tbody>\n",
       "    <tr>\n",
       "      <th>0</th>\n",
       "      <td>Cappuccino</td>\n",
       "      <td>Coffee</td>\n",
       "      <td>A rich and creamy cappuccino made with freshly...</td>\n",
       "      <td>[Espresso, Steamed Milk, Milk Foam]</td>\n",
       "      <td>4.50</td>\n",
       "      <td>4.7</td>\n",
       "      <td>cappuccino.jpg</td>\n",
       "    </tr>\n",
       "    <tr>\n",
       "      <th>1</th>\n",
       "      <td>Latte</td>\n",
       "      <td>Coffee</td>\n",
       "      <td>Smooth and creamy, our latte combines rich esp...</td>\n",
       "      <td>[Espresso, Steamed Milk, Milk Foam]</td>\n",
       "      <td>4.75</td>\n",
       "      <td>4.8</td>\n",
       "      <td>latte.jpg</td>\n",
       "    </tr>\n",
       "    <tr>\n",
       "      <th>2</th>\n",
       "      <td>Chocolate Chip Biscotti</td>\n",
       "      <td>Bakery</td>\n",
       "      <td>Crunchy and delightful, this chocolate chip bi...</td>\n",
       "      <td>[Flour, Sugar, Chocolate Chips, Eggs, Almonds,...</td>\n",
       "      <td>2.50</td>\n",
       "      <td>4.6</td>\n",
       "      <td>chocolate_biscotti.jpg</td>\n",
       "    </tr>\n",
       "    <tr>\n",
       "      <th>3</th>\n",
       "      <td>Espresso shot</td>\n",
       "      <td>Coffee</td>\n",
       "      <td>A bold shot of rich espresso, our espresso is ...</td>\n",
       "      <td>[Espresso]</td>\n",
       "      <td>2.00</td>\n",
       "      <td>4.9</td>\n",
       "      <td>espresso.jpg</td>\n",
       "    </tr>\n",
       "    <tr>\n",
       "      <th>4</th>\n",
       "      <td>Hazelnut Biscotti</td>\n",
       "      <td>Bakery</td>\n",
       "      <td>These delicious hazelnut biscotti are perfect ...</td>\n",
       "      <td>[Flour, Sugar, Hazelnuts, Eggs, Baking Powder]</td>\n",
       "      <td>2.75</td>\n",
       "      <td>4.4</td>\n",
       "      <td>hazelnut_biscotti.jpg</td>\n",
       "    </tr>\n",
       "  </tbody>\n",
       "</table>\n",
       "</div>"
      ],
      "text/plain": [
       "                      name category  \\\n",
       "0               Cappuccino   Coffee   \n",
       "1                    Latte   Coffee   \n",
       "2  Chocolate Chip Biscotti   Bakery   \n",
       "3            Espresso shot   Coffee   \n",
       "4        Hazelnut Biscotti   Bakery   \n",
       "\n",
       "                                         description  \\\n",
       "0  A rich and creamy cappuccino made with freshly...   \n",
       "1  Smooth and creamy, our latte combines rich esp...   \n",
       "2  Crunchy and delightful, this chocolate chip bi...   \n",
       "3  A bold shot of rich espresso, our espresso is ...   \n",
       "4  These delicious hazelnut biscotti are perfect ...   \n",
       "\n",
       "                                         ingredients  price  rating  \\\n",
       "0                [Espresso, Steamed Milk, Milk Foam]   4.50     4.7   \n",
       "1                [Espresso, Steamed Milk, Milk Foam]   4.75     4.8   \n",
       "2  [Flour, Sugar, Chocolate Chips, Eggs, Almonds,...   2.50     4.6   \n",
       "3                                         [Espresso]   2.00     4.9   \n",
       "4     [Flour, Sugar, Hazelnuts, Eggs, Baking Powder]   2.75     4.4   \n",
       "\n",
       "               image_path  \n",
       "0          cappuccino.jpg  \n",
       "1               latte.jpg  \n",
       "2  chocolate_biscotti.jpg  \n",
       "3            espresso.jpg  \n",
       "4   hazelnut_biscotti.jpg  "
      ]
     },
     "execution_count": 15,
     "metadata": {},
     "output_type": "execute_result"
    }
   ],
   "source": [
    "df = pd.read_json(\"products/products.jsonl\", lines=True)\n",
    "df.head()"
   ]
  },
  {
   "cell_type": "code",
   "execution_count": 16,
   "metadata": {},
   "outputs": [],
   "source": [
    "df[\"text\"] = df[\"name\"] + \" : \" + df[\"description\"] + \\\n",
    "\" -- Ingredients: \" + df[\"ingredients\"].astype(str) + \\\n",
    "\" -- Price: \" + df[\"price\"].astype(str) + \\\n",
    "\" -- Rating: \" + df[\"rating\"].astype(str) "
   ]
  },
  {
   "cell_type": "code",
   "execution_count": 17,
   "metadata": {},
   "outputs": [
    {
     "data": {
      "text/plain": [
       "0    Cappuccino : A rich and creamy cappuccino made...\n",
       "1    Latte : Smooth and creamy, our latte combines ...\n",
       "2    Chocolate Chip Biscotti : Crunchy and delightf...\n",
       "3    Espresso shot : A bold shot of rich espresso, ...\n",
       "4    Hazelnut Biscotti : These delicious hazelnut b...\n",
       "Name: text, dtype: object"
      ]
     },
     "execution_count": 17,
     "metadata": {},
     "output_type": "execute_result"
    }
   ],
   "source": [
    "df[\"text\"].head()"
   ]
  },
  {
   "cell_type": "code",
   "execution_count": 18,
   "metadata": {},
   "outputs": [],
   "source": [
    "texts = df[\"text\"].to_list()"
   ]
  },
  {
   "cell_type": "code",
   "execution_count": 19,
   "metadata": {},
   "outputs": [],
   "source": [
    "with open(\"products/Harvest_Roast_about_us.txt\", \"r\") as f:\n",
    "    harvest_roast_about_section = f.read()\n",
    "\n",
    "harvest_roast_text = \"Coffee shop Harvest Roast's way about section: \" + harvest_roast_about_section\n",
    "texts.append(harvest_roast_text)"
   ]
  },
  {
   "cell_type": "code",
   "execution_count": 20,
   "metadata": {},
   "outputs": [],
   "source": [
    "with open(\"products/menu_items_txt.txt\", \"r\") as f:\n",
    "    menu_items = f.read()\n",
    "\n",
    "menu_items_text = \"Menu items: \" + menu_items\n",
    "texts.append(menu_items_text)"
   ]
  },
  {
   "cell_type": "markdown",
   "metadata": {},
   "source": [
    "# Generate Embeddings"
   ]
  },
  {
   "cell_type": "code",
   "execution_count": 21,
   "metadata": {},
   "outputs": [],
   "source": [
    "output = client.embeddings.create(input=texts, model=model_name)"
   ]
  },
  {
   "cell_type": "code",
   "execution_count": 22,
   "metadata": {},
   "outputs": [],
   "source": [
    "embeddings = output.data"
   ]
  },
  {
   "cell_type": "code",
   "execution_count": 26,
   "metadata": {},
   "outputs": [
    {
     "data": {
      "text/plain": [
       "384"
      ]
     },
     "execution_count": 26,
     "metadata": {},
     "output_type": "execute_result"
    }
   ],
   "source": [
    "len(embeddings[0].embedding)"
   ]
  },
  {
   "cell_type": "markdown",
   "metadata": {},
   "source": [
    "# Push data to database"
   ]
  },
  {
   "cell_type": "code",
   "execution_count": 28,
   "metadata": {},
   "outputs": [],
   "source": [
    "pc.create_index(\n",
    "    name=pinecone_index_name,\n",
    "    dimension=384,\n",
    "    metric=\"cosine\",\n",
    "    spec=ServerlessSpec(\n",
    "        cloud=\"aws\",\n",
    "        region=\"us-east-1\"\n",
    "    )\n",
    ")"
   ]
  },
  {
   "cell_type": "code",
   "execution_count": 29,
   "metadata": {},
   "outputs": [
    {
     "data": {
      "text/plain": [
       "{'upserted_count': 19}"
      ]
     },
     "execution_count": 29,
     "metadata": {},
     "output_type": "execute_result"
    }
   ],
   "source": [
    "# wait for the index to be ready\n",
    "while not pc.describe_index(pinecone_index_name).status.ready:\n",
    "    time.sleep(1)\n",
    "\n",
    "index = pc.Index(pinecone_index_name)\n",
    "\n",
    "vectors = []\n",
    "\n",
    "for text, e in zip(texts, embeddings):\n",
    "    entry_id = text.split(\":\")[0]\n",
    "    vectors.append(\n",
    "        {\n",
    "            \"id\": entry_id,\n",
    "            \"values\": e.embedding,\n",
    "            \"metadata\": {\"text\": text}\n",
    "        }\n",
    "    )\n",
    "\n",
    "index.upsert(vectors=vectors, namespace=\"ns1\")"
   ]
  },
  {
   "cell_type": "markdown",
   "metadata": {},
   "source": [
    "# Get closest documents"
   ]
  },
  {
   "cell_type": "code",
   "execution_count": 30,
   "metadata": {},
   "outputs": [],
   "source": [
    "output = client.embeddings.create(input=[\"Is cappuccino lactose-free?\"], model=model_name)\n",
    "embedding = output.data[0].embedding"
   ]
  },
  {
   "cell_type": "code",
   "execution_count": 33,
   "metadata": {},
   "outputs": [],
   "source": [
    "results = index.query(\n",
    "    namespace=\"ns1\",\n",
    "    vector=embedding,\n",
    "    top_k=3,\n",
    "    include_values = False,\n",
    "    include_metadata = True\n",
    ")"
   ]
  },
  {
   "cell_type": "code",
   "execution_count": 34,
   "metadata": {},
   "outputs": [
    {
     "data": {
      "text/plain": [
       "{'matches': [{'id': 'Cappuccino ',\n",
       "              'metadata': {'text': 'Cappuccino : A rich and creamy cappuccino '\n",
       "                                   'made with freshly brewed espresso, steamed '\n",
       "                                   'milk, and a frothy milk cap. This '\n",
       "                                   'delightful drink offers a perfect balance '\n",
       "                                   'of bold coffee flavor and smooth milk, '\n",
       "                                   'making it an ideal companion for relaxing '\n",
       "                                   'mornings or lively conversations. -- '\n",
       "                                   \"Ingredients: ['Espresso', 'Steamed Milk', \"\n",
       "                                   \"'Milk Foam'] -- Price: 4.5 -- Rating: 4.7\"},\n",
       "              'score': 0.734804273,\n",
       "              'values': []},\n",
       "             {'id': 'Sugar Free Vanilla syrup ',\n",
       "              'metadata': {'text': 'Sugar Free Vanilla syrup : Enjoy the sweet '\n",
       "                                   'flavor of vanilla without the sugar, '\n",
       "                                   'making it perfect for your coffee or '\n",
       "                                   'dessert. This syrup offers a guilt-free '\n",
       "                                   'way to enhance your beverages, ensuring '\n",
       "                                   'you never miss out on flavor. -- '\n",
       "                                   \"Ingredients: ['Water', 'Natural Flavors', \"\n",
       "                                   \"'Sucralose'] -- Price: 1.5 -- Rating: 4.4\"},\n",
       "              'score': 0.625391364,\n",
       "              'values': []},\n",
       "             {'id': 'Menu items',\n",
       "              'metadata': {'text': 'Menu items: Menu Items\\n'\n",
       "                                   '\\n'\n",
       "                                   'Cappuccino - $4.50\\n'\n",
       "                                   'Latte - $4.75\\n'\n",
       "                                   'Chocolate Chip Biscotti - $2.50\\n'\n",
       "                                   'Espresso shot - $2.00\\n'\n",
       "                                   'Hazelnut Biscotti - $2.75\\n'\n",
       "                                   'Chocolate Croissant - $3.75\\n'\n",
       "                                   'Dark chocolate (Drinking Chocolate) - '\n",
       "                                   '$5.00\\n'\n",
       "                                   'Cranberry Scone - $3.50\\n'\n",
       "                                   'Croissant - $3.25\\n'\n",
       "                                   'Almond Croissant - $4.00\\n'\n",
       "                                   'Ginger Biscotti - $2.50\\n'\n",
       "                                   'Scottish Cream Scone - $3.25\\n'\n",
       "                                   'Chocolate syrup - $1.50\\n'\n",
       "                                   'Hazelnut syrup - $1.50\\n'\n",
       "                                   'Carmel syrup - $1.50\\n'\n",
       "                                   'Sugar Free Vanilla syrup - $1.50\\n'\n",
       "                                   'Dark chocolate (Packaged Chocolate) - '\n",
       "                                   '$3.00'},\n",
       "              'score': 0.604819059,\n",
       "              'values': []}],\n",
       " 'namespace': 'ns1',\n",
       " 'usage': {'read_units': 6}}"
      ]
     },
     "execution_count": 34,
     "metadata": {},
     "output_type": "execute_result"
    }
   ],
   "source": [
    "results"
   ]
  },
  {
   "cell_type": "code",
   "execution_count": null,
   "metadata": {},
   "outputs": [],
   "source": []
  }
 ],
 "metadata": {
  "kernelspec": {
   "display_name": "venv",
   "language": "python",
   "name": "python3"
  },
  "language_info": {
   "codemirror_mode": {
    "name": "ipython",
    "version": 3
   },
   "file_extension": ".py",
   "mimetype": "text/x-python",
   "name": "python",
   "nbconvert_exporter": "python",
   "pygments_lexer": "ipython3",
   "version": "3.10.12"
  }
 },
 "nbformat": 4,
 "nbformat_minor": 2
}
